{
 "cells": [
  {
   "cell_type": "code",
   "execution_count": 1,
   "id": "b527be30-e0e1-47b5-be0c-168cec04fa97",
   "metadata": {
    "tags": []
   },
   "outputs": [],
   "source": [
    " # Import relevant libraries and packages.\n",
    "import pandas as pd\n",
    "import numpy as np\n",
    "import os\n",
    "import matplotlib.pyplot as plt\n",
    "import seaborn as sns\n",
    "from sklearn.preprocessing import scale\n",
    "from sklearn.preprocessing import StandardScaler\n",
    "from sklearn.model_selection import train_test_split"
   ]
  },
  {
   "cell_type": "code",
   "execution_count": 2,
   "id": "d58c48a0-4e3b-40cd-a86d-720110b397d5",
   "metadata": {
    "tags": []
   },
   "outputs": [],
   "source": [
    "df = pd.read_csv('df_cleaned.csv', index_col = False)"
   ]
  },
  {
   "cell_type": "code",
   "execution_count": 3,
   "id": "1eabae13-53b8-4d86-8617-c3ea4c07e76e",
   "metadata": {
    "tags": []
   },
   "outputs": [
    {
     "data": {
      "text/plain": [
       "Index(['patient', 'Age', 'Sex', 'Chest_Pain_Type', 'Resting_BP', 'Cholesterol',\n",
       "       'Fasting_BS', 'Resting_ECG', 'Max_HR', 'Exercise_Induced_Angina',\n",
       "       'ST_Depression', 'ST_Slope', 'Num_Major_Vessels', 'Thal_Test',\n",
       "       'Disease'],\n",
       "      dtype='object')"
      ]
     },
     "execution_count": 3,
     "metadata": {},
     "output_type": "execute_result"
    }
   ],
   "source": [
    "df.columns"
   ]
  },
  {
   "cell_type": "code",
   "execution_count": 4,
   "id": "e8f7c1cc-9d59-4ac8-ac4e-85744f6988d1",
   "metadata": {
    "tags": []
   },
   "outputs": [
    {
     "name": "stdout",
     "output_type": "stream",
     "text": [
      "The data have  290  rows and  25  columns\n",
      "\n",
      "column names: \n",
      "\n",
      "patient\n",
      "Age\n",
      "Resting_BP\n",
      "Cholesterol\n",
      "Fasting_BS\n",
      "Max_HR\n",
      "Exercise_Induced_Angina\n",
      "ST_Depression\n",
      "Num_Major_Vessels\n",
      "Disease\n",
      "Sex_0\n",
      "Sex_1\n",
      "Chest_Pain_Type_1\n",
      "Chest_Pain_Type_2\n",
      "Chest_Pain_Type_3\n",
      "Chest_Pain_Type_4\n",
      "Resting_ECG_0\n",
      "Resting_ECG_1\n",
      "Resting_ECG_2\n",
      "ST_Slope_1\n",
      "ST_Slope_2\n",
      "ST_Slope_3\n",
      "Thal_Test_3.0\n",
      "Thal_Test_6.0\n",
      "Thal_Test_7.0\n"
     ]
    }
   ],
   "source": [
    "# Encode categorical variables as dummy variables for training\n",
    "\n",
    "categorical_features = ['Sex',\n",
    "                        'Chest_Pain_Type',\n",
    "                        'Resting_ECG',\n",
    "                        'ST_Slope',\n",
    "                        'Thal_Test']\n",
    "df = pd.get_dummies(df, columns = categorical_features)\n",
    "print('The data have ', df.shape[0], ' rows and ', df.shape[1], ' columns\\n')\n",
    "print('column names: \\n')\n",
    "print('\\n'.join(list(df.columns)))\n",
    "\n",
    "df.to_csv('df_cleaned.csv', index= False)\n"
   ]
  },
  {
   "cell_type": "code",
   "execution_count": 5,
   "id": "a46b750c-6bfa-4227-b554-fd123f9ba053",
   "metadata": {},
   "outputs": [
    {
     "data": {
      "text/html": [
       "<div>\n",
       "<style scoped>\n",
       "    .dataframe tbody tr th:only-of-type {\n",
       "        vertical-align: middle;\n",
       "    }\n",
       "\n",
       "    .dataframe tbody tr th {\n",
       "        vertical-align: top;\n",
       "    }\n",
       "\n",
       "    .dataframe thead th {\n",
       "        text-align: right;\n",
       "    }\n",
       "</style>\n",
       "<table border=\"1\" class=\"dataframe\">\n",
       "  <thead>\n",
       "    <tr style=\"text-align: right;\">\n",
       "      <th></th>\n",
       "      <th>patient</th>\n",
       "      <th>Age</th>\n",
       "      <th>Resting_BP</th>\n",
       "      <th>Cholesterol</th>\n",
       "      <th>Fasting_BS</th>\n",
       "      <th>Max_HR</th>\n",
       "      <th>Exercise_Induced_Angina</th>\n",
       "      <th>ST_Depression</th>\n",
       "      <th>Num_Major_Vessels</th>\n",
       "      <th>Sex_0</th>\n",
       "      <th>...</th>\n",
       "      <th>Chest_Pain_Type_4</th>\n",
       "      <th>Resting_ECG_0</th>\n",
       "      <th>Resting_ECG_1</th>\n",
       "      <th>Resting_ECG_2</th>\n",
       "      <th>ST_Slope_1</th>\n",
       "      <th>ST_Slope_2</th>\n",
       "      <th>ST_Slope_3</th>\n",
       "      <th>Thal_Test_3.0</th>\n",
       "      <th>Thal_Test_6.0</th>\n",
       "      <th>Thal_Test_7.0</th>\n",
       "    </tr>\n",
       "  </thead>\n",
       "  <tbody>\n",
       "    <tr>\n",
       "      <th>0</th>\n",
       "      <td>0</td>\n",
       "      <td>0.952446</td>\n",
       "      <td>0.807010</td>\n",
       "      <td>-0.246408</td>\n",
       "      <td>1</td>\n",
       "      <td>0.013627</td>\n",
       "      <td>0</td>\n",
       "      <td>1.100803</td>\n",
       "      <td>0.0</td>\n",
       "      <td>0</td>\n",
       "      <td>...</td>\n",
       "      <td>0</td>\n",
       "      <td>0</td>\n",
       "      <td>0</td>\n",
       "      <td>1</td>\n",
       "      <td>0</td>\n",
       "      <td>0</td>\n",
       "      <td>1</td>\n",
       "      <td>0</td>\n",
       "      <td>1</td>\n",
       "      <td>0</td>\n",
       "    </tr>\n",
       "    <tr>\n",
       "      <th>1</th>\n",
       "      <td>1</td>\n",
       "      <td>1.394558</td>\n",
       "      <td>1.687275</td>\n",
       "      <td>0.905446</td>\n",
       "      <td>0</td>\n",
       "      <td>-1.851280</td>\n",
       "      <td>1</td>\n",
       "      <td>0.404548</td>\n",
       "      <td>3.0</td>\n",
       "      <td>0</td>\n",
       "      <td>...</td>\n",
       "      <td>1</td>\n",
       "      <td>0</td>\n",
       "      <td>0</td>\n",
       "      <td>1</td>\n",
       "      <td>0</td>\n",
       "      <td>1</td>\n",
       "      <td>0</td>\n",
       "      <td>1</td>\n",
       "      <td>0</td>\n",
       "      <td>0</td>\n",
       "    </tr>\n",
       "    <tr>\n",
       "      <th>2</th>\n",
       "      <td>2</td>\n",
       "      <td>1.394558</td>\n",
       "      <td>-0.660097</td>\n",
       "      <td>-0.333341</td>\n",
       "      <td>0</td>\n",
       "      <td>-0.918827</td>\n",
       "      <td>1</td>\n",
       "      <td>1.361899</td>\n",
       "      <td>2.0</td>\n",
       "      <td>0</td>\n",
       "      <td>...</td>\n",
       "      <td>1</td>\n",
       "      <td>0</td>\n",
       "      <td>0</td>\n",
       "      <td>1</td>\n",
       "      <td>0</td>\n",
       "      <td>1</td>\n",
       "      <td>0</td>\n",
       "      <td>0</td>\n",
       "      <td>0</td>\n",
       "      <td>1</td>\n",
       "    </tr>\n",
       "    <tr>\n",
       "      <th>3</th>\n",
       "      <td>3</td>\n",
       "      <td>-1.921281</td>\n",
       "      <td>-0.073254</td>\n",
       "      <td>0.123054</td>\n",
       "      <td>0</td>\n",
       "      <td>1.656521</td>\n",
       "      <td>0</td>\n",
       "      <td>2.145185</td>\n",
       "      <td>0.0</td>\n",
       "      <td>0</td>\n",
       "      <td>...</td>\n",
       "      <td>0</td>\n",
       "      <td>1</td>\n",
       "      <td>0</td>\n",
       "      <td>0</td>\n",
       "      <td>0</td>\n",
       "      <td>0</td>\n",
       "      <td>1</td>\n",
       "      <td>1</td>\n",
       "      <td>0</td>\n",
       "      <td>0</td>\n",
       "    </tr>\n",
       "    <tr>\n",
       "      <th>4</th>\n",
       "      <td>4</td>\n",
       "      <td>-1.479169</td>\n",
       "      <td>-0.073254</td>\n",
       "      <td>-0.876668</td>\n",
       "      <td>0</td>\n",
       "      <td>0.990483</td>\n",
       "      <td>0</td>\n",
       "      <td>0.317516</td>\n",
       "      <td>0.0</td>\n",
       "      <td>1</td>\n",
       "      <td>...</td>\n",
       "      <td>0</td>\n",
       "      <td>0</td>\n",
       "      <td>0</td>\n",
       "      <td>1</td>\n",
       "      <td>1</td>\n",
       "      <td>0</td>\n",
       "      <td>0</td>\n",
       "      <td>1</td>\n",
       "      <td>0</td>\n",
       "      <td>0</td>\n",
       "    </tr>\n",
       "  </tbody>\n",
       "</table>\n",
       "<p>5 rows × 24 columns</p>\n",
       "</div>"
      ],
      "text/plain": [
       "   patient       Age  Resting_BP  Cholesterol  Fasting_BS    Max_HR  \\\n",
       "0        0  0.952446    0.807010    -0.246408           1  0.013627   \n",
       "1        1  1.394558    1.687275     0.905446           0 -1.851280   \n",
       "2        2  1.394558   -0.660097    -0.333341           0 -0.918827   \n",
       "3        3 -1.921281   -0.073254     0.123054           0  1.656521   \n",
       "4        4 -1.479169   -0.073254    -0.876668           0  0.990483   \n",
       "\n",
       "   Exercise_Induced_Angina  ST_Depression  Num_Major_Vessels  Sex_0  ...  \\\n",
       "0                        0       1.100803                0.0      0  ...   \n",
       "1                        1       0.404548                3.0      0  ...   \n",
       "2                        1       1.361899                2.0      0  ...   \n",
       "3                        0       2.145185                0.0      0  ...   \n",
       "4                        0       0.317516                0.0      1  ...   \n",
       "\n",
       "   Chest_Pain_Type_4  Resting_ECG_0  Resting_ECG_1  Resting_ECG_2  ST_Slope_1  \\\n",
       "0                  0              0              0              1           0   \n",
       "1                  1              0              0              1           0   \n",
       "2                  1              0              0              1           0   \n",
       "3                  0              1              0              0           0   \n",
       "4                  0              0              0              1           1   \n",
       "\n",
       "   ST_Slope_2  ST_Slope_3  Thal_Test_3.0  Thal_Test_6.0  Thal_Test_7.0  \n",
       "0           0           1              0              1              0  \n",
       "1           1           0              1              0              0  \n",
       "2           1           0              0              0              1  \n",
       "3           0           1              1              0              0  \n",
       "4           0           0              1              0              0  \n",
       "\n",
       "[5 rows x 24 columns]"
      ]
     },
     "execution_count": 5,
     "metadata": {},
     "output_type": "execute_result"
    }
   ],
   "source": [
    "continous_features = [\"Age\",\"Resting_BP\",\"Cholesterol\",\"Max_HR\",\"ST_Depression\"]\n",
    "target_feature = [\"Disease\"]\n",
    "\n",
    "#define features and target\n",
    "X = df.drop(columns = [\"Disease\"], axis=1)\n",
    "y = df[\"Disease\"]\n",
    "\n",
    "\n",
    "#Feature Scaling: Normalizing or standardizing features so that the model isn't biased or sensitive to the scale of measurements.\n",
    "# instantiating the scaler\n",
    "# use standard scaler because we have already removed the most\n",
    "scaler = StandardScaler()\n",
    "\n",
    "# scale continuous features\n",
    "X[continous_features] = scaler.fit_transform(X[continous_features])\n",
    "X.head()"
   ]
  },
  {
   "cell_type": "code",
   "execution_count": 6,
   "id": "7ffde5d3-1f27-4b5a-b462-489fe1a9efc0",
   "metadata": {
    "tags": []
   },
   "outputs": [
    {
     "name": "stdout",
     "output_type": "stream",
     "text": [
      "(232, 24)\n",
      "(58, 24)\n",
      "(232,)\n",
      "(58,)\n"
     ]
    }
   ],
   "source": [
    "# Perform the train/test split\n",
    "# ensure the train/test sets have the same incidence of heart disease by stratifying y. \n",
    "X_train, X_test, y_train, y_test = train_test_split(X, y, random_state = 123, stratify = y, test_size = 0.2)\n",
    "print(X_train.shape)\n",
    "print(X_test.shape)\n",
    "print(y_train.shape)\n",
    "print(y_test.shape)\n"
   ]
  },
  {
   "cell_type": "code",
   "execution_count": 7,
   "id": "54d47d86-2a8e-4235-87fd-cb96858ba5e5",
   "metadata": {
    "tags": []
   },
   "outputs": [],
   "source": [
    "#from logistic regression notebook\n",
    "\n",
    "def plot_y_ratios(y, ytest):\n",
    "    fig, ax = plt.subplots(2, sharex = True)\n",
    "    ax[0].bar(x = [0, 1], height = [y[y == 0].count(), \n",
    "                                    y[y == 1].count()])\n",
    "    ax[0].set_ylabel('train', fontsize = 8)\n",
    "    ax[0].set_ylim(0, 125)\n",
    "    ax[1].bar(x = [0, 1], height = [ytest[ytest == 0].count(),\n",
    "                                    ytest[ytest == 1].count()])\n",
    "    ax[1].set_ylabel('test', fontsize = 8)\n",
    "    ax[1].set_ylim(0, 125)\n",
    "    ax[1].set_xticks([0, 1])\n",
    "    ax[0].tick_params(which = 'both', labelsize = 8)\n",
    "    ax[1].tick_params(which = 'both', labelsize = 8)\n",
    "    ax[1].set_xlabel('heart disease\\n(0 = no disease)', fontsize = 8)\n",
    "    ax[0].set_title('% heart disease (where 1 means presence of heart diseases):\\n' +\n",
    "                    'train: ' + str(round(100 * (y[y ==1].count()/y.shape[0]), 0)) +\n",
    "                    '\\ntest: ' + str(round(100 * (ytest[ytest ==1].count()/ytest.shape[0]), 0)),\n",
    "                   fontsize = 10)\n",
    "    plt.show() "
   ]
  },
  {
   "cell_type": "code",
   "execution_count": 8,
   "id": "fced75d6-2234-4e0c-9725-f04e4a796e24",
   "metadata": {
    "tags": []
   },
   "outputs": [
    {
     "data": {
      "image/png": "[encoded data removed]",
      "text/plain": [
       "<Figure size 640x480 with 2 Axes>"
      ]
     },
     "metadata": {},
     "output_type": "display_data"
    }
   ],
   "source": [
    "plot_y_ratios(y_train, y_test)"
   ]
  },
  {
   "cell_type": "code",
   "execution_count": 9,
   "id": "eee0d47a-b97c-4d8b-a19b-61e7dddd8178",
   "metadata": {
    "tags": []
   },
   "outputs": [],
   "source": [
    "X_train.to_csv('X_train.csv', index = False)\n",
    "y_train.to_csv('y_train.csv', index = False)\n",
    "X_test.to_csv('X_test.csv', index = False)\n",
    "y_test.to_csv('y_test.csv',index = False)"
   ]
  }
 ],
 "metadata": {
  "kernelspec": {
   "display_name": "Python 3 (ipykernel)",
   "language": "python",
   "name": "python3"
  },
  "language_info": {
   "codemirror_mode": {
    "name": "ipython",
    "version": 3
   },
   "file_extension": ".py",
   "mimetype": "text/x-python",
   "name": "python",
   "nbconvert_exporter": "python",
   "pygments_lexer": "ipython3",
   "version": "3.11.4"
  }
 },
 "nbformat": 4,
 "nbformat_minor": 5
}
