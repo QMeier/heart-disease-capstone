{
 "cells": [
  {
   "cell_type": "markdown",
   "id": "a9228d29",
   "metadata": {
    "tags": []
   },
   "source": [
    "# 1. Imports and prep dataset"
   ]
  },
  {
   "cell_type": "code",
   "execution_count": 1,
   "id": "751af20b",
   "metadata": {
    "tags": []
   },
   "outputs": [],
   "source": [
    "import os\n",
    "import pandas as pd\n",
    "import numpy as np\n",
    "from scipy import stats\n",
    "from ydata_profiling import ProfileReport"
   ]
  },
  {
   "cell_type": "code",
   "execution_count": 2,
   "id": "de2c2223",
   "metadata": {
    "tags": []
   },
   "outputs": [],
   "source": [
    "# pip install ucimlrepo\n",
    "from ucimlrepo import fetch_ucirepo \n",
    "  \n",
    "# fetch dataset \n",
    "heart_disease = fetch_ucirepo(id=45) \n",
    "  \n",
    "# data (as pandas dataframes) \n",
    "X = heart_disease.data.features \n",
    "y = heart_disease.data.targets\n",
    "\n",
    "pd.concat([X,y]).to_csv('heart_disease.csv', index = False)"
   ]
  },
  {
   "cell_type": "code",
   "execution_count": 3,
   "id": "f120c4f6",
   "metadata": {
    "tags": []
   },
   "outputs": [
    {
     "name": "stdout",
     "output_type": "stream",
     "text": [
      "     age  sex  cp  trestbps  chol  fbs  restecg  thalach  exang  oldpeak  \\\n",
      "0     63    1   1       145   233    1        2      150      0      2.3   \n",
      "1     67    1   4       160   286    0        2      108      1      1.5   \n",
      "2     67    1   4       120   229    0        2      129      1      2.6   \n",
      "3     37    1   3       130   250    0        0      187      0      3.5   \n",
      "4     41    0   2       130   204    0        2      172      0      1.4   \n",
      "..   ...  ...  ..       ...   ...  ...      ...      ...    ...      ...   \n",
      "298   45    1   1       110   264    0        0      132      0      1.2   \n",
      "299   68    1   4       144   193    1        0      141      0      3.4   \n",
      "300   57    1   4       130   131    0        0      115      1      1.2   \n",
      "301   57    0   2       130   236    0        2      174      0      0.0   \n",
      "302   38    1   3       138   175    0        0      173      0      0.0   \n",
      "\n",
      "     slope   ca  thal  \n",
      "0        3  0.0   6.0  \n",
      "1        2  3.0   3.0  \n",
      "2        2  2.0   7.0  \n",
      "3        3  0.0   3.0  \n",
      "4        1  0.0   3.0  \n",
      "..     ...  ...   ...  \n",
      "298      2  0.0   7.0  \n",
      "299      2  2.0   7.0  \n",
      "300      2  1.0   7.0  \n",
      "301      2  1.0   3.0  \n",
      "302      1  NaN   3.0  \n",
      "\n",
      "[303 rows x 13 columns]\n"
     ]
    }
   ],
   "source": [
    "print(X)"
   ]
  },
  {
   "cell_type": "code",
   "execution_count": 4,
   "id": "541630c5-0efd-4035-88c0-864453284499",
   "metadata": {},
   "outputs": [],
   "source": [
    "# add 'output' column to X and set all nonzero values to 1\n",
    "X['output'] = y\n",
    "X['output'] = X['output'].where(X['output'] == 0, 1)"
   ]
  },
  {
   "cell_type": "code",
   "execution_count": 5,
   "id": "796d1369",
   "metadata": {
    "tags": []
   },
   "outputs": [
    {
     "name": "stdout",
     "output_type": "stream",
     "text": [
      "     age  sex  cp  trestbps  chol  fbs  restecg  thalach  exang  oldpeak  \\\n",
      "0     63    1   1       145   233    1        2      150      0      2.3   \n",
      "1     67    1   4       160   286    0        2      108      1      1.5   \n",
      "2     67    1   4       120   229    0        2      129      1      2.6   \n",
      "3     37    1   3       130   250    0        0      187      0      3.5   \n",
      "4     41    0   2       130   204    0        2      172      0      1.4   \n",
      "..   ...  ...  ..       ...   ...  ...      ...      ...    ...      ...   \n",
      "298   45    1   1       110   264    0        0      132      0      1.2   \n",
      "299   68    1   4       144   193    1        0      141      0      3.4   \n",
      "300   57    1   4       130   131    0        0      115      1      1.2   \n",
      "301   57    0   2       130   236    0        2      174      0      0.0   \n",
      "302   38    1   3       138   175    0        0      173      0      0.0   \n",
      "\n",
      "     slope   ca  thal  output  \n",
      "0        3  0.0   6.0       0  \n",
      "1        2  3.0   3.0       1  \n",
      "2        2  2.0   7.0       1  \n",
      "3        3  0.0   3.0       0  \n",
      "4        1  0.0   3.0       0  \n",
      "..     ...  ...   ...     ...  \n",
      "298      2  0.0   7.0       1  \n",
      "299      2  2.0   7.0       1  \n",
      "300      2  1.0   7.0       1  \n",
      "301      2  1.0   3.0       1  \n",
      "302      1  NaN   3.0       0  \n",
      "\n",
      "[303 rows x 14 columns]\n"
     ]
    }
   ],
   "source": [
    "print(X)"
   ]
  },
  {
   "cell_type": "markdown",
   "id": "a8ee49ae",
   "metadata": {},
   "source": [
    "# 2. Explaination of Variables"
   ]
  },
  {
   "cell_type": "markdown",
   "id": "c6ab17c5",
   "metadata": {},
   "source": [
    "``` \n",
    "•\tage: patient age in years\n",
    "•\tsex: patient sex (1 = male, 0 = female)\n",
    "•\tcp: Type of chest pain experienced (1: typical angina, 2: atypical angina, 3: non-anginal pain, 4: asymptomatic)\n",
    "•\ttrestbps: patient resting blood pressure (mmHg measured at intake into hospital)\n",
    "•\tchol: patient cholesterol level (mg/dl)\n",
    "•\tfbs: patient fasting blood sugar (> 120 mg/dl, 1 = true; 0 = false)\n",
    "•\trestecg: patient resting electrocardiograph measurement (0 = normal, 1 = having ST-T wave abnormality, 2 = showing probable or definite left ventricular hypertrophy by Estes' criteria)\n",
    "•\tthalach: patient maximum heart rate achieved\n",
    "•\texang: exercise induced angina (1 = yes; 0 = no)\n",
    "•\toldpeak: ST depression induced by exercise relative to rest ('ST' relates to positions on the ECG plot)\n",
    "•\tslope: the slope of the peak exercise ST segment (1: upsloping, 2: flat, 3: downsloping)\n",
    "•\tca: number of major vessels  (0-3)\n",
    "•\tthal: see below (3 = normal; 6 = fixed defect; 7 = reversble defect)\n",
    "•\ttarget: presence of heart disease (0 = not present, 1 = present.)\n",
    "\n",
    "\n",
    "Background on Thalium Tracer test (thal)\n",
    "--Nuclear stress testing requires the injection of a tracer, commonly technicium 99M (Myoview or Cardiolyte), which is then taken up by healthy, viable myocardial cells. A camera (detector) is used afterwards to image the heart and compare segments. Coronary stenosis is detected when a myocardial segment takes up the nuclear tracer at rest, but not during cardiac stress. This is called a \"reversible defect.\" Scarred myocardium from prior infarct will not take up tracer at all and is referred to as a \"fixed defect.\"\n",
    "```"
   ]
  },
  {
   "cell_type": "markdown",
   "id": "8879cad6-6da4-473f-8a61-b8a0ecb0e213",
   "metadata": {
    "tags": []
   },
   "source": [
    "# 3. Cleaning the data"
   ]
  },
  {
   "cell_type": "code",
   "execution_count": 6,
   "id": "419be9bd-f9bc-4fe3-bbc8-d609cc5489d0",
   "metadata": {
    "tags": []
   },
   "outputs": [],
   "source": [
    "# Rename original columns for clarity\n",
    "X.columns = ['Age', 'Sex', 'Chest_Pain_Type', 'Resting_BP', \n",
    "              'Cholesterol', 'Fasting_BS', 'Resting_ECG', \n",
    "              'Max_HR', 'Exercise_Induced_Angina', \n",
    "              'ST_Depression', 'ST_Slope', 'Num_Major_Vessels',\n",
    "              'Thal_Test', 'Disease']"
   ]
  },
  {
   "cell_type": "code",
   "execution_count": 7,
   "id": "56fb50aa",
   "metadata": {
    "tags": []
   },
   "outputs": [
    {
     "name": "stdout",
     "output_type": "stream",
     "text": [
      "<class 'pandas.core.frame.DataFrame'>\n",
      "RangeIndex: 303 entries, 0 to 302\n",
      "Data columns (total 14 columns):\n",
      " #   Column                   Non-Null Count  Dtype  \n",
      "---  ------                   --------------  -----  \n",
      " 0   Age                      303 non-null    int64  \n",
      " 1   Sex                      303 non-null    int64  \n",
      " 2   Chest_Pain_Type          303 non-null    int64  \n",
      " 3   Resting_BP               303 non-null    int64  \n",
      " 4   Cholesterol              303 non-null    int64  \n",
      " 5   Fasting_BS               303 non-null    int64  \n",
      " 6   Resting_ECG              303 non-null    int64  \n",
      " 7   Max_HR                   303 non-null    int64  \n",
      " 8   Exercise_Induced_Angina  303 non-null    int64  \n",
      " 9   ST_Depression            303 non-null    float64\n",
      " 10  ST_Slope                 303 non-null    int64  \n",
      " 11  Num_Major_Vessels        299 non-null    float64\n",
      " 12  Thal_Test                301 non-null    float64\n",
      " 13  Disease                  303 non-null    int64  \n",
      "dtypes: float64(3), int64(11)\n",
      "memory usage: 33.3 KB\n"
     ]
    }
   ],
   "source": [
    "# See datatypes and null values of X\n",
    "X.info()"
   ]
  },
  {
   "cell_type": "code",
   "execution_count": 8,
   "id": "9945e6f4",
   "metadata": {
    "tags": []
   },
   "outputs": [
    {
     "data": {
      "text/html": [
       "<div>\n",
       "<style scoped>\n",
       "    .dataframe tbody tr th:only-of-type {\n",
       "        vertical-align: middle;\n",
       "    }\n",
       "\n",
       "    .dataframe tbody tr th {\n",
       "        vertical-align: top;\n",
       "    }\n",
       "\n",
       "    .dataframe thead th {\n",
       "        text-align: right;\n",
       "    }\n",
       "</style>\n",
       "<table border=\"1\" class=\"dataframe\">\n",
       "  <thead>\n",
       "    <tr style=\"text-align: right;\">\n",
       "      <th></th>\n",
       "      <th>Age</th>\n",
       "      <th>Sex</th>\n",
       "      <th>Chest_Pain_Type</th>\n",
       "      <th>Resting_BP</th>\n",
       "      <th>Cholesterol</th>\n",
       "      <th>Fasting_BS</th>\n",
       "      <th>Resting_ECG</th>\n",
       "      <th>Max_HR</th>\n",
       "      <th>Exercise_Induced_Angina</th>\n",
       "      <th>ST_Depression</th>\n",
       "      <th>ST_Slope</th>\n",
       "      <th>Num_Major_Vessels</th>\n",
       "      <th>Thal_Test</th>\n",
       "      <th>Disease</th>\n",
       "    </tr>\n",
       "  </thead>\n",
       "  <tbody>\n",
       "    <tr>\n",
       "      <th>count</th>\n",
       "      <td>303.000000</td>\n",
       "      <td>303.000000</td>\n",
       "      <td>303.000000</td>\n",
       "      <td>303.000000</td>\n",
       "      <td>303.000000</td>\n",
       "      <td>303.000000</td>\n",
       "      <td>303.000000</td>\n",
       "      <td>303.000000</td>\n",
       "      <td>303.000000</td>\n",
       "      <td>303.000000</td>\n",
       "      <td>303.000000</td>\n",
       "      <td>299.000000</td>\n",
       "      <td>301.000000</td>\n",
       "      <td>303.000000</td>\n",
       "    </tr>\n",
       "    <tr>\n",
       "      <th>mean</th>\n",
       "      <td>54.438944</td>\n",
       "      <td>0.679868</td>\n",
       "      <td>3.158416</td>\n",
       "      <td>131.689769</td>\n",
       "      <td>246.693069</td>\n",
       "      <td>0.148515</td>\n",
       "      <td>0.990099</td>\n",
       "      <td>149.607261</td>\n",
       "      <td>0.326733</td>\n",
       "      <td>1.039604</td>\n",
       "      <td>1.600660</td>\n",
       "      <td>0.672241</td>\n",
       "      <td>4.734219</td>\n",
       "      <td>0.458746</td>\n",
       "    </tr>\n",
       "    <tr>\n",
       "      <th>std</th>\n",
       "      <td>9.038662</td>\n",
       "      <td>0.467299</td>\n",
       "      <td>0.960126</td>\n",
       "      <td>17.599748</td>\n",
       "      <td>51.776918</td>\n",
       "      <td>0.356198</td>\n",
       "      <td>0.994971</td>\n",
       "      <td>22.875003</td>\n",
       "      <td>0.469794</td>\n",
       "      <td>1.161075</td>\n",
       "      <td>0.616226</td>\n",
       "      <td>0.937438</td>\n",
       "      <td>1.939706</td>\n",
       "      <td>0.499120</td>\n",
       "    </tr>\n",
       "    <tr>\n",
       "      <th>min</th>\n",
       "      <td>29.000000</td>\n",
       "      <td>0.000000</td>\n",
       "      <td>1.000000</td>\n",
       "      <td>94.000000</td>\n",
       "      <td>126.000000</td>\n",
       "      <td>0.000000</td>\n",
       "      <td>0.000000</td>\n",
       "      <td>71.000000</td>\n",
       "      <td>0.000000</td>\n",
       "      <td>0.000000</td>\n",
       "      <td>1.000000</td>\n",
       "      <td>0.000000</td>\n",
       "      <td>3.000000</td>\n",
       "      <td>0.000000</td>\n",
       "    </tr>\n",
       "    <tr>\n",
       "      <th>25%</th>\n",
       "      <td>48.000000</td>\n",
       "      <td>0.000000</td>\n",
       "      <td>3.000000</td>\n",
       "      <td>120.000000</td>\n",
       "      <td>211.000000</td>\n",
       "      <td>0.000000</td>\n",
       "      <td>0.000000</td>\n",
       "      <td>133.500000</td>\n",
       "      <td>0.000000</td>\n",
       "      <td>0.000000</td>\n",
       "      <td>1.000000</td>\n",
       "      <td>0.000000</td>\n",
       "      <td>3.000000</td>\n",
       "      <td>0.000000</td>\n",
       "    </tr>\n",
       "    <tr>\n",
       "      <th>50%</th>\n",
       "      <td>56.000000</td>\n",
       "      <td>1.000000</td>\n",
       "      <td>3.000000</td>\n",
       "      <td>130.000000</td>\n",
       "      <td>241.000000</td>\n",
       "      <td>0.000000</td>\n",
       "      <td>1.000000</td>\n",
       "      <td>153.000000</td>\n",
       "      <td>0.000000</td>\n",
       "      <td>0.800000</td>\n",
       "      <td>2.000000</td>\n",
       "      <td>0.000000</td>\n",
       "      <td>3.000000</td>\n",
       "      <td>0.000000</td>\n",
       "    </tr>\n",
       "    <tr>\n",
       "      <th>75%</th>\n",
       "      <td>61.000000</td>\n",
       "      <td>1.000000</td>\n",
       "      <td>4.000000</td>\n",
       "      <td>140.000000</td>\n",
       "      <td>275.000000</td>\n",
       "      <td>0.000000</td>\n",
       "      <td>2.000000</td>\n",
       "      <td>166.000000</td>\n",
       "      <td>1.000000</td>\n",
       "      <td>1.600000</td>\n",
       "      <td>2.000000</td>\n",
       "      <td>1.000000</td>\n",
       "      <td>7.000000</td>\n",
       "      <td>1.000000</td>\n",
       "    </tr>\n",
       "    <tr>\n",
       "      <th>max</th>\n",
       "      <td>77.000000</td>\n",
       "      <td>1.000000</td>\n",
       "      <td>4.000000</td>\n",
       "      <td>200.000000</td>\n",
       "      <td>564.000000</td>\n",
       "      <td>1.000000</td>\n",
       "      <td>2.000000</td>\n",
       "      <td>202.000000</td>\n",
       "      <td>1.000000</td>\n",
       "      <td>6.200000</td>\n",
       "      <td>3.000000</td>\n",
       "      <td>3.000000</td>\n",
       "      <td>7.000000</td>\n",
       "      <td>1.000000</td>\n",
       "    </tr>\n",
       "  </tbody>\n",
       "</table>\n",
       "</div>"
      ],
      "text/plain": [
       "              Age         Sex  Chest_Pain_Type  Resting_BP  Cholesterol  \\\n",
       "count  303.000000  303.000000       303.000000  303.000000   303.000000   \n",
       "mean    54.438944    0.679868         3.158416  131.689769   246.693069   \n",
       "std      9.038662    0.467299         0.960126   17.599748    51.776918   \n",
       "min     29.000000    0.000000         1.000000   94.000000   126.000000   \n",
       "25%     48.000000    0.000000         3.000000  120.000000   211.000000   \n",
       "50%     56.000000    1.000000         3.000000  130.000000   241.000000   \n",
       "75%     61.000000    1.000000         4.000000  140.000000   275.000000   \n",
       "max     77.000000    1.000000         4.000000  200.000000   564.000000   \n",
       "\n",
       "       Fasting_BS  Resting_ECG      Max_HR  Exercise_Induced_Angina  \\\n",
       "count  303.000000   303.000000  303.000000               303.000000   \n",
       "mean     0.148515     0.990099  149.607261                 0.326733   \n",
       "std      0.356198     0.994971   22.875003                 0.469794   \n",
       "min      0.000000     0.000000   71.000000                 0.000000   \n",
       "25%      0.000000     0.000000  133.500000                 0.000000   \n",
       "50%      0.000000     1.000000  153.000000                 0.000000   \n",
       "75%      0.000000     2.000000  166.000000                 1.000000   \n",
       "max      1.000000     2.000000  202.000000                 1.000000   \n",
       "\n",
       "       ST_Depression    ST_Slope  Num_Major_Vessels   Thal_Test     Disease  \n",
       "count     303.000000  303.000000         299.000000  301.000000  303.000000  \n",
       "mean        1.039604    1.600660           0.672241    4.734219    0.458746  \n",
       "std         1.161075    0.616226           0.937438    1.939706    0.499120  \n",
       "min         0.000000    1.000000           0.000000    3.000000    0.000000  \n",
       "25%         0.000000    1.000000           0.000000    3.000000    0.000000  \n",
       "50%         0.800000    2.000000           0.000000    3.000000    0.000000  \n",
       "75%         1.600000    2.000000           1.000000    7.000000    1.000000  \n",
       "max         6.200000    3.000000           3.000000    7.000000    1.000000  "
      ]
     },
     "execution_count": 8,
     "metadata": {},
     "output_type": "execute_result"
    }
   ],
   "source": [
    "X.describe()"
   ]
  },
  {
   "cell_type": "code",
   "execution_count": 9,
   "id": "a22af5b1",
   "metadata": {
    "tags": []
   },
   "outputs": [
    {
     "data": {
      "text/plain": [
       "Age                        0\n",
       "Sex                        0\n",
       "Chest_Pain_Type            0\n",
       "Resting_BP                 0\n",
       "Cholesterol                0\n",
       "Fasting_BS                 0\n",
       "Resting_ECG                0\n",
       "Max_HR                     0\n",
       "Exercise_Induced_Angina    0\n",
       "ST_Depression              0\n",
       "ST_Slope                   0\n",
       "Num_Major_Vessels          4\n",
       "Thal_Test                  2\n",
       "Disease                    0\n",
       "dtype: int64"
      ]
     },
     "execution_count": 9,
     "metadata": {},
     "output_type": "execute_result"
    }
   ],
   "source": [
    "X.isnull().sum()"
   ]
  },
  {
   "cell_type": "code",
   "execution_count": 10,
   "id": "83c58c81",
   "metadata": {
    "tags": []
   },
   "outputs": [],
   "source": [
    "# Drop  NaNs\n",
    "X = X.dropna()"
   ]
  },
  {
   "cell_type": "code",
   "execution_count": 11,
   "id": "29c3d9c7",
   "metadata": {
    "scrolled": true,
    "tags": []
   },
   "outputs": [
    {
     "name": "stdout",
     "output_type": "stream",
     "text": [
      "\n",
      "Data after removing outliers: \n",
      "              Age         Sex  Chest_Pain_Type  Resting_BP  Cholesterol  \\\n",
      "count  290.000000  290.000000       290.000000  290.000000   290.000000   \n",
      "mean    54.382759    0.686207         3.151724  131.248276   244.337931   \n",
      "std      9.063122    0.464836         0.968936   17.069786    46.092313   \n",
      "min     29.000000    0.000000         1.000000   94.000000   126.000000   \n",
      "25%     47.250000    0.000000         3.000000  120.000000   211.000000   \n",
      "50%     55.500000    1.000000         3.000000  130.000000   240.500000   \n",
      "75%     61.000000    1.000000         4.000000  140.000000   274.000000   \n",
      "max     77.000000    1.000000         4.000000  180.000000   394.000000   \n",
      "\n",
      "       Fasting_BS  Resting_ECG      Max_HR  Exercise_Induced_Angina  \\\n",
      "count  290.000000    290.00000  290.000000               290.000000   \n",
      "mean     0.141379      0.97931  149.693103                 0.327586   \n",
      "std      0.349015      0.99458   22.560161                 0.470144   \n",
      "min      0.000000      0.00000   88.000000                 0.000000   \n",
      "25%      0.000000      0.00000  133.250000                 0.000000   \n",
      "50%      0.000000      0.00000  152.500000                 0.000000   \n",
      "75%      0.000000      2.00000  166.000000                 1.000000   \n",
      "max      1.000000      2.00000  202.000000                 1.000000   \n",
      "\n",
      "       ST_Depression    ST_Slope  Num_Major_Vessels   Thal_Test     Disease  \n",
      "count     290.000000  290.000000         290.000000  290.000000  290.000000  \n",
      "mean        1.035172    1.596552           0.662069    4.703448    0.455172  \n",
      "std         1.150991    0.616376           0.931722    1.933583    0.498847  \n",
      "min         0.000000    1.000000           0.000000    3.000000    0.000000  \n",
      "25%         0.000000    1.000000           0.000000    3.000000    0.000000  \n",
      "50%         0.800000    2.000000           0.000000    3.000000    0.000000  \n",
      "75%         1.600000    2.000000           1.000000    7.000000    1.000000  \n",
      "max         6.200000    3.000000           3.000000    7.000000    1.000000  \n"
     ]
    }
   ],
   "source": [
    "# Identify outliers\n",
    "from scipy.stats import zscore\n",
    "\n",
    "# Calculating the z-score for continuous values in our dataframe that we assume are normally distibuted\n",
    "numeric_cols = ['Age', 'Resting_BP', 'Cholesterol', 'Max_HR']\n",
    "z = zscore(X[numeric_cols])\n",
    "abs_z = np.abs(z)\n",
    "#define threshold of 3\n",
    "filtered = (abs_z < 3).all(axis=1)\n",
    "X_outliers_removed = X[filtered]\n",
    "print(\"\\nData after removing outliers: \")\n",
    "print(X_outliers_removed.describe())\n"
   ]
  },
  {
   "cell_type": "code",
   "execution_count": 12,
   "id": "c22fbe15",
   "metadata": {
    "tags": []
   },
   "outputs": [],
   "source": [
    "df_final = X_outliers_removed.reset_index()"
   ]
  },
  {
   "cell_type": "code",
   "execution_count": 13,
   "id": "c430dd19-e0da-48f2-bd6f-99ef29231d9d",
   "metadata": {
    "tags": []
   },
   "outputs": [],
   "source": [
    "df_final.rename({\"index\": \"patient\"},  \n",
    "          axis = \"columns\", inplace = True) "
   ]
  },
  {
   "cell_type": "code",
   "execution_count": 14,
   "id": "8f5c1ccc",
   "metadata": {
    "tags": []
   },
   "outputs": [
    {
     "name": "stdout",
     "output_type": "stream",
     "text": [
      "     patient  Age  Sex  Chest_Pain_Type  Resting_BP  Cholesterol  Fasting_BS  \\\n",
      "0          0   63    1                1         145          233           1   \n",
      "1          1   67    1                4         160          286           0   \n",
      "2          2   67    1                4         120          229           0   \n",
      "3          3   37    1                3         130          250           0   \n",
      "4          4   41    0                2         130          204           0   \n",
      "..       ...  ...  ...              ...         ...          ...         ...   \n",
      "285      297   57    0                4         140          241           0   \n",
      "286      298   45    1                1         110          264           0   \n",
      "287      299   68    1                4         144          193           1   \n",
      "288      300   57    1                4         130          131           0   \n",
      "289      301   57    0                2         130          236           0   \n",
      "\n",
      "     Resting_ECG  Max_HR  Exercise_Induced_Angina  ST_Depression  ST_Slope  \\\n",
      "0              2     150                        0            2.3         3   \n",
      "1              2     108                        1            1.5         2   \n",
      "2              2     129                        1            2.6         2   \n",
      "3              0     187                        0            3.5         3   \n",
      "4              2     172                        0            1.4         1   \n",
      "..           ...     ...                      ...            ...       ...   \n",
      "285            0     123                        1            0.2         2   \n",
      "286            0     132                        0            1.2         2   \n",
      "287            0     141                        0            3.4         2   \n",
      "288            0     115                        1            1.2         2   \n",
      "289            2     174                        0            0.0         2   \n",
      "\n",
      "     Num_Major_Vessels  Thal_Test  Disease  \n",
      "0                  0.0        6.0        0  \n",
      "1                  3.0        3.0        1  \n",
      "2                  2.0        7.0        1  \n",
      "3                  0.0        3.0        0  \n",
      "4                  0.0        3.0        0  \n",
      "..                 ...        ...      ...  \n",
      "285                0.0        7.0        1  \n",
      "286                0.0        7.0        1  \n",
      "287                2.0        7.0        1  \n",
      "288                1.0        7.0        1  \n",
      "289                1.0        3.0        1  \n",
      "\n",
      "[290 rows x 15 columns]\n"
     ]
    }
   ],
   "source": [
    "# 7 rows removed for outliers\n",
    "# 4 rows removed for missing variables\n",
    "print(df_final)"
   ]
  },
  {
   "cell_type": "code",
   "execution_count": 15,
   "id": "e363231f-ba7e-48e3-8ceb-e110a3b5086a",
   "metadata": {
    "tags": []
   },
   "outputs": [
    {
     "data": {
      "text/plain": [
       "(290, 15)"
      ]
     },
     "execution_count": 15,
     "metadata": {},
     "output_type": "execute_result"
    }
   ],
   "source": [
    "df_final.shape"
   ]
  },
  {
   "cell_type": "code",
   "execution_count": 16,
   "id": "c57e314d-ed6a-473a-bef3-8a716efa8973",
   "metadata": {
    "tags": []
   },
   "outputs": [],
   "source": [
    "df_final.to_csv('df_cleaned.csv', index= False)"
   ]
  }
 ],
 "metadata": {
  "kernelspec": {
   "display_name": "Python 3 (ipykernel)",
   "language": "python",
   "name": "python3"
  },
  "language_info": {
   "codemirror_mode": {
    "name": "ipython",
    "version": 3
   },
   "file_extension": ".py",
   "mimetype": "text/x-python",
   "name": "python",
   "nbconvert_exporter": "python",
   "pygments_lexer": "ipython3",
   "version": "3.11.4"
  }
 },
 "nbformat": 4,
 "nbformat_minor": 5
}
