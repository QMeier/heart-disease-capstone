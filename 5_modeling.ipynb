{
 "cells": [
  {
   "cell_type": "markdown",
   "id": "2a6db77d-70e5-4d5d-9030-2d614dfa8e6c",
   "metadata": {},
   "source": [
    "### Heart Disease Prediction - Modeling"
   ]
  },
  {
   "cell_type": "markdown",
   "id": "c07e10cc-bb1a-4090-a8df-55d3139f5c73",
   "metadata": {},
   "source": [
    "Import necessary libraries and data"
   ]
  },
  {
   "cell_type": "code",
   "execution_count": 147,
   "id": "6a36a21b-0bce-4bc2-846a-623722601e15",
   "metadata": {},
   "outputs": [],
   "source": [
    "import pandas as pd\n",
    "import matplotlib.pyplot as plt\n",
    "\n",
    "from sklearn.metrics import accuracy_score\n",
    "from sklearn.metrics import confusion_matrix\n",
    "from sklearn.metrics import ConfusionMatrixDisplay\n",
    "\n",
    "from sklearn.model_selection import GridSearchCV\n",
    "\n",
    "from sklearn.ensemble import GradientBoostingClassifier\n",
    "from sklearn.svm import SVC\n",
    "from sklearn.linear_model import LogisticRegression"
   ]
  },
  {
   "cell_type": "code",
   "execution_count": 148,
   "id": "4f7f8e0e-d3c7-4742-94d9-ce6d6e29c5b9",
   "metadata": {
    "tags": []
   },
   "outputs": [],
   "source": [
    "#load training and test data\n",
    "X_train = pd.read_csv('X_train.csv', index_col = False)\n",
    "y_train = pd.read_csv('y_train.csv', index_col = False)\n",
    "X_test = pd.read_csv('X_test.csv',  index_col = False)\n",
    "y_test = pd.read_csv('y_test.csv', index_col = False)\n",
    "\n",
    "X = pd.concat([X_train,X_test])\n",
    "y = pd.concat([y_train,y_test])"
   ]
  },
  {
   "cell_type": "markdown",
   "id": "13351bbf-1c14-4ebd-aa84-bc64c03ccac8",
   "metadata": {},
   "source": [
    "## Model 1: Logistic Regression"
   ]
  },
  {
   "cell_type": "code",
   "execution_count": 149,
   "id": "e9317c70-2869-4145-ad13-c3861fcc298a",
   "metadata": {
    "tags": []
   },
   "outputs": [],
   "source": [
    "#choose liblinear solver due to relatively small dataset\n",
    "classifier_LR = LogisticRegression(solver = 'liblinear', max_iter = 500)"
   ]
  },
  {
   "cell_type": "code",
   "execution_count": 150,
   "id": "4a540c11-1cc2-4519-aad4-19537829e898",
   "metadata": {
    "tags": []
   },
   "outputs": [
    {
     "data": {
      "text/html": [
       "<style>#sk-container-id-29 {color: black;}#sk-container-id-29 pre{padding: 0;}#sk-container-id-29 div.sk-toggleable {background-color: white;}#sk-container-id-29 label.sk-toggleable__label {cursor: pointer;display: block;width: 100%;margin-bottom: 0;padding: 0.3em;box-sizing: border-box;text-align: center;}#sk-container-id-29 label.sk-toggleable__label-arrow:before {content: \"▸\";float: left;margin-right: 0.25em;color: #696969;}#sk-container-id-29 label.sk-toggleable__label-arrow:hover:before {color: black;}#sk-container-id-29 div.sk-estimator:hover label.sk-toggleable__label-arrow:before {color: black;}#sk-container-id-29 div.sk-toggleable__content {max-height: 0;max-width: 0;overflow: hidden;text-align: left;background-color: #f0f8ff;}#sk-container-id-29 div.sk-toggleable__content pre {margin: 0.2em;color: black;border-radius: 0.25em;background-color: #f0f8ff;}#sk-container-id-29 input.sk-toggleable__control:checked~div.sk-toggleable__content {max-height: 200px;max-width: 100%;overflow: auto;}#sk-container-id-29 input.sk-toggleable__control:checked~label.sk-toggleable__label-arrow:before {content: \"▾\";}#sk-container-id-29 div.sk-estimator input.sk-toggleable__control:checked~label.sk-toggleable__label {background-color: #d4ebff;}#sk-container-id-29 div.sk-label input.sk-toggleable__control:checked~label.sk-toggleable__label {background-color: #d4ebff;}#sk-container-id-29 input.sk-hidden--visually {border: 0;clip: rect(1px 1px 1px 1px);clip: rect(1px, 1px, 1px, 1px);height: 1px;margin: -1px;overflow: hidden;padding: 0;position: absolute;width: 1px;}#sk-container-id-29 div.sk-estimator {font-family: monospace;background-color: #f0f8ff;border: 1px dotted black;border-radius: 0.25em;box-sizing: border-box;margin-bottom: 0.5em;}#sk-container-id-29 div.sk-estimator:hover {background-color: #d4ebff;}#sk-container-id-29 div.sk-parallel-item::after {content: \"\";width: 100%;border-bottom: 1px solid gray;flex-grow: 1;}#sk-container-id-29 div.sk-label:hover label.sk-toggleable__label {background-color: #d4ebff;}#sk-container-id-29 div.sk-serial::before {content: \"\";position: absolute;border-left: 1px solid gray;box-sizing: border-box;top: 0;bottom: 0;left: 50%;z-index: 0;}#sk-container-id-29 div.sk-serial {display: flex;flex-direction: column;align-items: center;background-color: white;padding-right: 0.2em;padding-left: 0.2em;position: relative;}#sk-container-id-29 div.sk-item {position: relative;z-index: 1;}#sk-container-id-29 div.sk-parallel {display: flex;align-items: stretch;justify-content: center;background-color: white;position: relative;}#sk-container-id-29 div.sk-item::before, #sk-container-id-29 div.sk-parallel-item::before {content: \"\";position: absolute;border-left: 1px solid gray;box-sizing: border-box;top: 0;bottom: 0;left: 50%;z-index: -1;}#sk-container-id-29 div.sk-parallel-item {display: flex;flex-direction: column;z-index: 1;position: relative;background-color: white;}#sk-container-id-29 div.sk-parallel-item:first-child::after {align-self: flex-end;width: 50%;}#sk-container-id-29 div.sk-parallel-item:last-child::after {align-self: flex-start;width: 50%;}#sk-container-id-29 div.sk-parallel-item:only-child::after {width: 0;}#sk-container-id-29 div.sk-dashed-wrapped {border: 1px dashed gray;margin: 0 0.4em 0.5em 0.4em;box-sizing: border-box;padding-bottom: 0.4em;background-color: white;}#sk-container-id-29 div.sk-label label {font-family: monospace;font-weight: bold;display: inline-block;line-height: 1.2em;}#sk-container-id-29 div.sk-label-container {text-align: center;}#sk-container-id-29 div.sk-container {/* jupyter's `normalize.less` sets `[hidden] { display: none; }` but bootstrap.min.css set `[hidden] { display: none !important; }` so we also need the `!important` here to be able to override the default hidden behavior on the sphinx rendered scikit-learn.org. See: https://github.com/scikit-learn/scikit-learn/issues/21755 */display: inline-block !important;position: relative;}#sk-container-id-29 div.sk-text-repr-fallback {display: none;}</style><div id=\"sk-container-id-29\" class=\"sk-top-container\"><div class=\"sk-text-repr-fallback\"><pre>LogisticRegression(max_iter=500, solver=&#x27;liblinear&#x27;)</pre><b>In a Jupyter environment, please rerun this cell to show the HTML representation or trust the notebook. <br />On GitHub, the HTML representation is unable to render, please try loading this page with nbviewer.org.</b></div><div class=\"sk-container\" hidden><div class=\"sk-item\"><div class=\"sk-estimator sk-toggleable\"><input class=\"sk-toggleable__control sk-hidden--visually\" id=\"sk-estimator-id-29\" type=\"checkbox\" checked><label for=\"sk-estimator-id-29\" class=\"sk-toggleable__label sk-toggleable__label-arrow\">LogisticRegression</label><div class=\"sk-toggleable__content\"><pre>LogisticRegression(max_iter=500, solver=&#x27;liblinear&#x27;)</pre></div></div></div></div></div>"
      ],
      "text/plain": [
       "LogisticRegression(max_iter=500, solver='liblinear')"
      ]
     },
     "execution_count": 150,
     "metadata": {},
     "output_type": "execute_result"
    }
   ],
   "source": [
    "# fit training data with classifer, use ravel() to ensure y input is flattened\n",
    "classifier_LR.fit(X_train, y_train.values.ravel())"
   ]
  },
  {
   "cell_type": "code",
   "execution_count": 151,
   "id": "a9408fc2-dcfa-4d95-b29d-2c1601ba5c15",
   "metadata": {
    "tags": []
   },
   "outputs": [],
   "source": [
    "y_predict_test_LR = classifier_LR.predict(X_test)\n",
    "y_predict_training_LR = classifier_LR.predict(X_train)"
   ]
  },
  {
   "cell_type": "code",
   "execution_count": 152,
   "id": "e21c0bfa-15bf-4878-b92d-8d3ea1a214ef",
   "metadata": {
    "tags": []
   },
   "outputs": [
    {
     "name": "stdout",
     "output_type": "stream",
     "text": [
      "[Test] Accuracy score LR: (y_predict_test, y_test): 0.84\n"
     ]
    }
   ],
   "source": [
    "print(\"[Test] Accuracy score LR: (y_predict_test, y_test):\",\n",
    "      f'{accuracy_score(y_predict_test_LR, y_test):.2f}')"
   ]
  },
  {
   "cell_type": "code",
   "execution_count": 153,
   "id": "ee8f1799-b68a-4153-b324-f9ffc11e6e21",
   "metadata": {
    "tags": []
   },
   "outputs": [
    {
     "name": "stdout",
     "output_type": "stream",
     "text": [
      "[Training] Accuracy score LR: (y_train, y_predict_training) 0.87\n"
     ]
    }
   ],
   "source": [
    "print(\"[Training] Accuracy score LR: (y_train, y_predict_training)\", \n",
    "      f'{accuracy_score(y_train, y_predict_training_LR):.2f}')"
   ]
  },
  {
   "cell_type": "markdown",
   "id": "5ae3112e-4daa-4528-9556-f2857ac26782",
   "metadata": {},
   "source": [
    "Print the confusion matrix\n",
    "\n",
    "\n",
    "\n"
   ]
  },
  {
   "cell_type": "code",
   "execution_count": 154,
   "id": "0d16583a-6c48-4b71-a82a-ce7a43d90210",
   "metadata": {
    "tags": []
   },
   "outputs": [
    {
     "data": {
      "text/plain": [
       "<sklearn.metrics._plot.confusion_matrix.ConfusionMatrixDisplay at 0x1be56a92410>"
      ]
     },
     "execution_count": 154,
     "metadata": {},
     "output_type": "execute_result"
    },
    {
     "data": {
      "image/png": "[encoded data removed]",
      "text/plain": [
       "<Figure size 640x480 with 2 Axes>"
      ]
     },
     "metadata": {},
     "output_type": "display_data"
    }
   ],
   "source": [
    "cm = confusion_matrix(y_test, y_predict_test_LR, labels = classifier_LR.classes_)\n",
    "_, ax = plt.subplots()\n",
    "display_cm = ConfusionMatrixDisplay(confusion_matrix = cm, \n",
    "                                    display_labels = ['No Heart Disease', 'Heart Disease'])\n",
    "ax.set_xticks([0, 1])\n",
    "ax.set_yticks([0, 1])\n",
    "ax.set_xticklabels(labels = ['no heart disease', 'heart disease'], fontsize = 8)\n",
    "ax.set_yticklabels(labels = ['no heart disease', 'heart disease'], fontsize = 8)\n",
    "display_cm.plot(ax = ax)"
   ]
  },
  {
   "cell_type": "code",
   "execution_count": 155,
   "id": "a9663acd-4f1e-4fe9-8692-1ca05ed94cd2",
   "metadata": {
    "tags": []
   },
   "outputs": [
    {
     "name": "stdout",
     "output_type": "stream",
     "text": [
      "best score: 0.853448275862069\n",
      "best c: LogisticRegression(C=0.1, max_iter=500, solver='liblinear')\n"
     ]
    }
   ],
   "source": [
    "param_grid = {\n",
    "    'C': [0.001, 0.1, 1, 10, 100],\n",
    "}\n",
    "gscv = GridSearchCV(classifier_LR, param_grid=param_grid, cv=5)\n",
    "\n",
    "gscv.fit(X_train, y_train.values.ravel())\n",
    "\n",
    "print('best score:',gscv.score(X_test, y_test))\n",
    "print('best c:',gscv.best_estimator_)"
   ]
  },
  {
   "cell_type": "markdown",
   "id": "20b7d3e2-f1e0-4675-bce6-46dc89fb7006",
   "metadata": {
    "tags": []
   },
   "source": [
    "## Model 2: Support Vector Machines"
   ]
  },
  {
   "cell_type": "code",
   "execution_count": 156,
   "id": "fbc2739a-10af-4457-b99c-5b4d4a943841",
   "metadata": {
    "tags": []
   },
   "outputs": [],
   "source": [
    "classifier_SV = SVC(kernel = 'linear', C = 1, random_state = 123)"
   ]
  },
  {
   "cell_type": "code",
   "execution_count": 157,
   "id": "cfa29bdd-b2e7-48fa-90cc-3c2f5250f452",
   "metadata": {
    "tags": []
   },
   "outputs": [
    {
     "data": {
      "text/html": [
       "<style>#sk-container-id-30 {color: black;}#sk-container-id-30 pre{padding: 0;}#sk-container-id-30 div.sk-toggleable {background-color: white;}#sk-container-id-30 label.sk-toggleable__label {cursor: pointer;display: block;width: 100%;margin-bottom: 0;padding: 0.3em;box-sizing: border-box;text-align: center;}#sk-container-id-30 label.sk-toggleable__label-arrow:before {content: \"▸\";float: left;margin-right: 0.25em;color: #696969;}#sk-container-id-30 label.sk-toggleable__label-arrow:hover:before {color: black;}#sk-container-id-30 div.sk-estimator:hover label.sk-toggleable__label-arrow:before {color: black;}#sk-container-id-30 div.sk-toggleable__content {max-height: 0;max-width: 0;overflow: hidden;text-align: left;background-color: #f0f8ff;}#sk-container-id-30 div.sk-toggleable__content pre {margin: 0.2em;color: black;border-radius: 0.25em;background-color: #f0f8ff;}#sk-container-id-30 input.sk-toggleable__control:checked~div.sk-toggleable__content {max-height: 200px;max-width: 100%;overflow: auto;}#sk-container-id-30 input.sk-toggleable__control:checked~label.sk-toggleable__label-arrow:before {content: \"▾\";}#sk-container-id-30 div.sk-estimator input.sk-toggleable__control:checked~label.sk-toggleable__label {background-color: #d4ebff;}#sk-container-id-30 div.sk-label input.sk-toggleable__control:checked~label.sk-toggleable__label {background-color: #d4ebff;}#sk-container-id-30 input.sk-hidden--visually {border: 0;clip: rect(1px 1px 1px 1px);clip: rect(1px, 1px, 1px, 1px);height: 1px;margin: -1px;overflow: hidden;padding: 0;position: absolute;width: 1px;}#sk-container-id-30 div.sk-estimator {font-family: monospace;background-color: #f0f8ff;border: 1px dotted black;border-radius: 0.25em;box-sizing: border-box;margin-bottom: 0.5em;}#sk-container-id-30 div.sk-estimator:hover {background-color: #d4ebff;}#sk-container-id-30 div.sk-parallel-item::after {content: \"\";width: 100%;border-bottom: 1px solid gray;flex-grow: 1;}#sk-container-id-30 div.sk-label:hover label.sk-toggleable__label {background-color: #d4ebff;}#sk-container-id-30 div.sk-serial::before {content: \"\";position: absolute;border-left: 1px solid gray;box-sizing: border-box;top: 0;bottom: 0;left: 50%;z-index: 0;}#sk-container-id-30 div.sk-serial {display: flex;flex-direction: column;align-items: center;background-color: white;padding-right: 0.2em;padding-left: 0.2em;position: relative;}#sk-container-id-30 div.sk-item {position: relative;z-index: 1;}#sk-container-id-30 div.sk-parallel {display: flex;align-items: stretch;justify-content: center;background-color: white;position: relative;}#sk-container-id-30 div.sk-item::before, #sk-container-id-30 div.sk-parallel-item::before {content: \"\";position: absolute;border-left: 1px solid gray;box-sizing: border-box;top: 0;bottom: 0;left: 50%;z-index: -1;}#sk-container-id-30 div.sk-parallel-item {display: flex;flex-direction: column;z-index: 1;position: relative;background-color: white;}#sk-container-id-30 div.sk-parallel-item:first-child::after {align-self: flex-end;width: 50%;}#sk-container-id-30 div.sk-parallel-item:last-child::after {align-self: flex-start;width: 50%;}#sk-container-id-30 div.sk-parallel-item:only-child::after {width: 0;}#sk-container-id-30 div.sk-dashed-wrapped {border: 1px dashed gray;margin: 0 0.4em 0.5em 0.4em;box-sizing: border-box;padding-bottom: 0.4em;background-color: white;}#sk-container-id-30 div.sk-label label {font-family: monospace;font-weight: bold;display: inline-block;line-height: 1.2em;}#sk-container-id-30 div.sk-label-container {text-align: center;}#sk-container-id-30 div.sk-container {/* jupyter's `normalize.less` sets `[hidden] { display: none; }` but bootstrap.min.css set `[hidden] { display: none !important; }` so we also need the `!important` here to be able to override the default hidden behavior on the sphinx rendered scikit-learn.org. See: https://github.com/scikit-learn/scikit-learn/issues/21755 */display: inline-block !important;position: relative;}#sk-container-id-30 div.sk-text-repr-fallback {display: none;}</style><div id=\"sk-container-id-30\" class=\"sk-top-container\"><div class=\"sk-text-repr-fallback\"><pre>SVC(C=1, kernel=&#x27;linear&#x27;, random_state=123)</pre><b>In a Jupyter environment, please rerun this cell to show the HTML representation or trust the notebook. <br />On GitHub, the HTML representation is unable to render, please try loading this page with nbviewer.org.</b></div><div class=\"sk-container\" hidden><div class=\"sk-item\"><div class=\"sk-estimator sk-toggleable\"><input class=\"sk-toggleable__control sk-hidden--visually\" id=\"sk-estimator-id-30\" type=\"checkbox\" checked><label for=\"sk-estimator-id-30\" class=\"sk-toggleable__label sk-toggleable__label-arrow\">SVC</label><div class=\"sk-toggleable__content\"><pre>SVC(C=1, kernel=&#x27;linear&#x27;, random_state=123)</pre></div></div></div></div></div>"
      ],
      "text/plain": [
       "SVC(C=1, kernel='linear', random_state=123)"
      ]
     },
     "execution_count": 157,
     "metadata": {},
     "output_type": "execute_result"
    }
   ],
   "source": [
    "classifier_SV.fit(X_train, y_train.values.ravel())"
   ]
  },
  {
   "cell_type": "code",
   "execution_count": 158,
   "id": "ca241558-7071-461d-8d17-a6f13ba46d62",
   "metadata": {
    "tags": []
   },
   "outputs": [],
   "source": [
    "y_predict_test_SV = classifier_SV.predict(X_test)\n",
    "y_predict_training_SV = classifier_SV.predict(X_train)"
   ]
  },
  {
   "cell_type": "code",
   "execution_count": 159,
   "id": "0f7d3f3b-0d0a-4d92-8c6f-05df1e106654",
   "metadata": {
    "tags": []
   },
   "outputs": [
    {
     "name": "stdout",
     "output_type": "stream",
     "text": [
      "[Test] Accuracy score SV: (y_predict_test, y_test): 0.83\n"
     ]
    }
   ],
   "source": [
    "print(\"[Test] Accuracy score SV: (y_predict_test, y_test):\",\n",
    "      f'{accuracy_score(y_predict_test_SV, y_test):.2f}')"
   ]
  },
  {
   "cell_type": "code",
   "execution_count": 160,
   "id": "bc897236-9294-4072-ab7c-cfc1afc1e42d",
   "metadata": {
    "tags": []
   },
   "outputs": [
    {
     "name": "stdout",
     "output_type": "stream",
     "text": [
      "[Training] Accuracy score SV: (y_train, y_predict_training) 0.87\n"
     ]
    }
   ],
   "source": [
    "print(\"[Training] Accuracy score SV: (y_train, y_predict_training)\", \n",
    "      f'{accuracy_score(y_train, y_predict_training_SV):.2f}')"
   ]
  },
  {
   "cell_type": "code",
   "execution_count": null,
   "id": "a1be7b7b-c653-4680-a2db-1cc6ec7da55c",
   "metadata": {
    "tags": []
   },
   "outputs": [],
   "source": [
    "# define grid of parameters\n",
    "parameters = {\n",
    "    'C': [1,2.5,5,7.5,10],\n",
    "    'gamma':[0.00001, 0.0001,0.001,0.01,0.1,1,10]\n",
    "}\n",
    "\n",
    "# use grid search cv\n",
    "search = GridSearchCV(classifier_SV, parameters)\n",
    "\n",
    "# fitting the model\n",
    "search.fit(X_train, y_train.values.ravel())\n",
    "\n",
    "print(\"Optimal Parameters:\", search.best_params_)\n",
    "print(\"Best Score  :\", search.best_score_)\n",
    "\n",
    "# get predicted values\n",
    "y_predict_GSCV_SV = search.predict(X_test)\n",
    "\n",
    "print(\"[Test] Accuracy score Grid Search CV - SV: (y_predict_test, y_test):\",\n",
    "      f'{accuracy_score(y_predict_GSCV_SV, y_test):.2f}')"
   ]
  },
  {
   "cell_type": "code",
   "execution_count": null,
   "id": "2c46de01-8d44-4315-8038-43a4d8cdd77d",
   "metadata": {
    "tags": []
   },
   "outputs": [],
   "source": [
    "cm = confusion_matrix(y_test, y_predict_test_SV, labels = classifier_LR.classes_)\n",
    "_, ax = plt.subplots()\n",
    "display_cm = ConfusionMatrixDisplay(confusion_matrix = cm, \n",
    "                                    display_labels = ['No Heart Disease', 'Heart Disease'])\n",
    "ax.set_xticks([0, 1])\n",
    "ax.set_yticks([0, 1])\n",
    "ax.set_xticklabels(labels = ['no heart disease', 'heart disease'], fontsize = 8)\n",
    "ax.set_yticklabels(labels = ['no heart disease', 'heart disease'], fontsize = 8)\n",
    "display_cm.plot(ax = ax)"
   ]
  },
  {
   "cell_type": "markdown",
   "id": "fec629e5-4820-4672-9a1b-bb644090fd1a",
   "metadata": {
    "tags": []
   },
   "source": [
    "## Model 3: Gradient Boosting"
   ]
  },
  {
   "cell_type": "code",
   "execution_count": null,
   "id": "44feeb29-1b97-44a8-b350-88fd61b2dba4",
   "metadata": {
    "tags": []
   },
   "outputs": [],
   "source": [
    "classifier_GB = GradientBoostingClassifier(n_estimators = 50, max_depth = 1, subsample=0.95, max_features=0.25, random_state = 123)\n",
    "\n",
    "# fit model\n",
    "classifier_GB.fit(X_train, y_train.values.ravel())"
   ]
  },
  {
   "cell_type": "code",
   "execution_count": null,
   "id": "e60a1844-14f4-4f7f-9f41-e8bbacfeb0b2",
   "metadata": {
    "tags": []
   },
   "outputs": [],
   "source": [
    "# predicting values\n",
    "y_predict_test_GB = classifier_GB.predict(X_test)\n",
    "y_predict_training_GB = classifier_GB.predict(X_train)"
   ]
  },
  {
   "cell_type": "code",
   "execution_count": null,
   "id": "80487cd1-b220-430c-877b-085f38203a12",
   "metadata": {
    "tags": []
   },
   "outputs": [],
   "source": [
    "print(\"[Test] Accuracy score SV: (y_predict_test, y_test):\",\n",
    "      f'{accuracy_score(y_predict_test_GB, y_test):.2f}')"
   ]
  },
  {
   "cell_type": "code",
   "execution_count": null,
   "id": "70857f49-1768-45c0-9d4d-4a660738a058",
   "metadata": {
    "tags": []
   },
   "outputs": [],
   "source": [
    "print(\"[Training] Accuracy score GB: (y_train, y_predict_training)\", \n",
    "      f'{accuracy_score(y_train, y_predict_training_gb):.2f}')"
   ]
  },
  {
   "cell_type": "code",
   "execution_count": null,
   "id": "7cfc7102-b58d-4bc6-af4a-bc24a185a034",
   "metadata": {
    "tags": []
   },
   "outputs": [],
   "source": [
    "cm = confusion_matrix(y_test, y_predict_test_GB, labels = classifier_LR.classes_)\n",
    "_, ax = plt.subplots()\n",
    "display_cm = ConfusionMatrixDisplay(confusion_matrix = cm, \n",
    "                                    display_labels = ['No Heart Disease', 'Heart Disease'])\n",
    "ax.set_xticks([0, 1])\n",
    "ax.set_yticks([0, 1])\n",
    "ax.set_xticklabels(labels = ['no heart disease', 'heart disease'], fontsize = 8)\n",
    "ax.set_yticklabels(labels = ['no heart disease', 'heart disease'], fontsize = 8)\n",
    "display_cm.plot(ax = ax)"
   ]
  },
  {
   "cell_type": "markdown",
   "id": "30e2066b-8a34-4679-aa43-b745a505199d",
   "metadata": {
    "tags": []
   },
   "source": [
    "## Results\n"
   ]
  },
  {
   "cell_type": "markdown",
   "id": "551e9ff9-e04e-4321-b913-4ec21efcf93d",
   "metadata": {},
   "source": [
    "In reviewing these results, the gradient boosting model had the best accuracy of 86%. This was done by reducing the number of false negatives by 44% compared to the other models.That being said, the logistic regression is the best overall due to simplicity and more sound assumtions related to the dataset. Particularly, it seems to have the most similar accuracy when comparing the test and training datasets with 87% and 84%, respectively. This indicates that it is likely the most generalizable model of the three for these kind of data but it does not seem like this is the best possible result. I ran into an issue after doing an initial train test split of 80/20 with stratifed y, where all of the models were up to 12% more accurate on the test set than on the training set. This was likely due to the something in the test set making it easier for the models to predict. To counteract this, a larger portion of the data was dedicated to the test set. Despite this, the effect was still clear in the gradient boosting model. In future work, these models could be tweaked even further with different parameters and kernels. "
   ]
  }
 ],
 "metadata": {
  "kernelspec": {
   "display_name": "Python 3 (ipykernel)",
   "language": "python",
   "name": "python3"
  },
  "language_info": {
   "codemirror_mode": {
    "name": "ipython",
    "version": 3
   },
   "file_extension": ".py",
   "mimetype": "text/x-python",
   "name": "python",
   "nbconvert_exporter": "python",
   "pygments_lexer": "ipython3",
   "version": "3.11.4"
  }
 },
 "nbformat": 4,
 "nbformat_minor": 5
}
